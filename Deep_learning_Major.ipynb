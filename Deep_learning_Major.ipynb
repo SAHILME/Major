{
  "nbformat": 4,
  "nbformat_minor": 0,
  "metadata": {
    "accelerator": "GPU",
    "colab": {
      "name": "Deep-learning_Major.ipynb",
      "provenance": [],
      "collapsed_sections": []
    },
    "kernelspec": {
      "display_name": "Python 3",
      "name": "python3"
    }
  },
  "cells": [
    {
      "cell_type": "code",
      "metadata": {
        "colab": {
          "base_uri": "https://localhost:8080/"
        },
        "id": "QvpfjaBwqi5W",
        "outputId": "50d62f01-ca2e-4532-ec37-e84556fe4ec0"
      },
      "source": [
        "import pandas as pd\n",
        "import numpy as np\n",
        "import keras\n",
        "\n",
        "from keras.models import Sequential, load_model\n",
        "from keras.layers import Dense, Activation, Dropout, Conv1D, MaxPooling1D, Flatten\n",
        "from keras.metrics import CategoricalAccuracy, TruePositives, TrueNegatives, FalsePositives, FalseNegatives\n",
        "from sklearn.model_selection import StratifiedKFold, train_test_split\n",
        "from sklearn.preprocessing import LabelEncoder, OneHotEncoder\n",
        "from keras.utils.np_utils import to_categorical, normalize\n",
        "from sklearn.utils import shuffle\n",
        "import keras\n",
        "from keras.models import Sequential\n",
        "from keras.layers.advanced_activations import LeakyReLU\n",
        "from keras.layers import Dense, Dropout\n",
        "import matplotlib.pyplot as plt\n",
        "from sklearn.feature_selection import SelectKBest, f_classif, SelectFpr\n",
        "import operator\n",
        "from sklearn.naive_bayes import GaussianNB\n",
        "from sklearn import metrics\n",
        "from sklearn.model_selection import StratifiedKFold\n",
        "import math\n",
        "\n",
        "print('Imports complete')"
      ],
      "execution_count": null,
      "outputs": [
        {
          "output_type": "stream",
          "text": [
            "Imports complete\n"
          ],
          "name": "stdout"
        }
      ]
    },
    {
      "cell_type": "code",
      "metadata": {
        "id": "sAwDnyKNsLzh"
      },
      "source": [
        "path = '/content/drive/MyDrive/cleaneddata.csv'\n",
        "df = pd.read_csv(path)"
      ],
      "execution_count": null,
      "outputs": []
    },
    {
      "cell_type": "code",
      "metadata": {
        "colab": {
          "base_uri": "https://localhost:8080/",
          "height": 434
        },
        "id": "4c_GA7KJurgE",
        "outputId": "c7969c1b-137c-4be5-c42c-091de5a47b1d"
      },
      "source": [
        "df.head()"
      ],
      "execution_count": null,
      "outputs": [
        {
          "output_type": "execute_result",
          "data": {
            "text/html": [
              "<div>\n",
              "<style scoped>\n",
              "    .dataframe tbody tr th:only-of-type {\n",
              "        vertical-align: middle;\n",
              "    }\n",
              "\n",
              "    .dataframe tbody tr th {\n",
              "        vertical-align: top;\n",
              "    }\n",
              "\n",
              "    .dataframe thead th {\n",
              "        text-align: right;\n",
              "    }\n",
              "</style>\n",
              "<table border=\"1\" class=\"dataframe\">\n",
              "  <thead>\n",
              "    <tr style=\"text-align: right;\">\n",
              "      <th></th>\n",
              "      <th>Flow ID</th>\n",
              "      <th>Source Port</th>\n",
              "      <th>Destination Port</th>\n",
              "      <th>Timestamp</th>\n",
              "      <th>Flow Duration</th>\n",
              "      <th>Total Length of Fwd Packets</th>\n",
              "      <th>Total Length of Bwd Packets</th>\n",
              "      <th>Fwd Packet Length Mean</th>\n",
              "      <th>Fwd Packet Length Std</th>\n",
              "      <th>Bwd Packet Length Max</th>\n",
              "      <th>Bwd Packet Length Std</th>\n",
              "      <th>Flow Bytes/s</th>\n",
              "      <th>Flow Packets/s</th>\n",
              "      <th>Flow IAT Mean</th>\n",
              "      <th>Flow IAT Std</th>\n",
              "      <th>Flow IAT Max</th>\n",
              "      <th>Flow IAT Min</th>\n",
              "      <th>Fwd IAT Total</th>\n",
              "      <th>Fwd IAT Mean</th>\n",
              "      <th>Fwd IAT Std</th>\n",
              "      <th>Fwd IAT Max</th>\n",
              "      <th>Fwd IAT Min</th>\n",
              "      <th>Bwd IAT Total</th>\n",
              "      <th>Bwd IAT Mean</th>\n",
              "      <th>Bwd IAT Std</th>\n",
              "      <th>Bwd IAT Max</th>\n",
              "      <th>Bwd IAT Min</th>\n",
              "      <th>Fwd PSH Flags</th>\n",
              "      <th>Bwd PSH Flags</th>\n",
              "      <th>Fwd Packets/s</th>\n",
              "      <th>Max Packet Length</th>\n",
              "      <th>Packet Length Mean</th>\n",
              "      <th>Packet Length Std</th>\n",
              "      <th>URG Flag Count</th>\n",
              "      <th>CWE Flag Count</th>\n",
              "      <th>ECE Flag Count</th>\n",
              "      <th>Avg Fwd Segment Size</th>\n",
              "      <th>Fwd Header Length.1</th>\n",
              "      <th>Subflow Bwd Packets</th>\n",
              "      <th>Subflow Bwd Bytes</th>\n",
              "      <th>Init_Win_bytes_forward</th>\n",
              "      <th>Init_Win_bytes_backward</th>\n",
              "      <th>min_seg_size_forward</th>\n",
              "      <th>Active Mean</th>\n",
              "      <th>Active Std</th>\n",
              "      <th>Active Max</th>\n",
              "      <th>Active Min</th>\n",
              "      <th>Idle Mean</th>\n",
              "      <th>Idle Std</th>\n",
              "      <th>Idle Max</th>\n",
              "      <th>Idle Min</th>\n",
              "      <th>Label</th>\n",
              "    </tr>\n",
              "  </thead>\n",
              "  <tbody>\n",
              "    <tr>\n",
              "      <th>0</th>\n",
              "      <td>172.217.2.174-10.42.0.211-443-51023-6</td>\n",
              "      <td>51023</td>\n",
              "      <td>443</td>\n",
              "      <td>16/06/2017 03:55:47</td>\n",
              "      <td>151054</td>\n",
              "      <td>1076</td>\n",
              "      <td>4575</td>\n",
              "      <td>179.333333</td>\n",
              "      <td>321.621931</td>\n",
              "      <td>571.875000</td>\n",
              "      <td>679.532284</td>\n",
              "      <td>37410.462480</td>\n",
              "      <td>92.682087</td>\n",
              "      <td>11619.53846</td>\n",
              "      <td>14541.15588</td>\n",
              "      <td>49105</td>\n",
              "      <td>24</td>\n",
              "      <td>101887</td>\n",
              "      <td>20377.4</td>\n",
              "      <td>12821.55074</td>\n",
              "      <td>30425</td>\n",
              "      <td>111</td>\n",
              "      <td>128516</td>\n",
              "      <td>18359.42857</td>\n",
              "      <td>24038.55786</td>\n",
              "      <td>54822</td>\n",
              "      <td>24</td>\n",
              "      <td>200.0</td>\n",
              "      <td>52.961193</td>\n",
              "      <td>0</td>\n",
              "      <td>1418</td>\n",
              "      <td>1</td>\n",
              "      <td>0</td>\n",
              "      <td>0</td>\n",
              "      <td>1</td>\n",
              "      <td>179.333333</td>\n",
              "      <td>6</td>\n",
              "      <td>1076</td>\n",
              "      <td>8</td>\n",
              "      <td>4575</td>\n",
              "      <td>353</td>\n",
              "      <td>3</td>\n",
              "      <td>32</td>\n",
              "      <td>0.0</td>\n",
              "      <td>0.0</td>\n",
              "      <td>0</td>\n",
              "      <td>0</td>\n",
              "      <td>0.0</td>\n",
              "      <td>0.0</td>\n",
              "      <td>0</td>\n",
              "      <td>0</td>\n",
              "      <td>BENIGN</td>\n",
              "    </tr>\n",
              "    <tr>\n",
              "      <th>1</th>\n",
              "      <td>172.217.2.174-10.42.0.211-443-51023-6</td>\n",
              "      <td>51023</td>\n",
              "      <td>443</td>\n",
              "      <td>16/06/2017 03:55:47</td>\n",
              "      <td>349</td>\n",
              "      <td>23</td>\n",
              "      <td>0</td>\n",
              "      <td>11.500000</td>\n",
              "      <td>16.263456</td>\n",
              "      <td>0.000000</td>\n",
              "      <td>0.000000</td>\n",
              "      <td>65902.578800</td>\n",
              "      <td>5730.659026</td>\n",
              "      <td>349.00000</td>\n",
              "      <td>0.00000</td>\n",
              "      <td>349</td>\n",
              "      <td>349</td>\n",
              "      <td>349</td>\n",
              "      <td>349.0</td>\n",
              "      <td>0.00000</td>\n",
              "      <td>349</td>\n",
              "      <td>349</td>\n",
              "      <td>0</td>\n",
              "      <td>0.00000</td>\n",
              "      <td>0.00000</td>\n",
              "      <td>0</td>\n",
              "      <td>0</td>\n",
              "      <td>64.0</td>\n",
              "      <td>0.000000</td>\n",
              "      <td>0</td>\n",
              "      <td>23</td>\n",
              "      <td>0</td>\n",
              "      <td>1</td>\n",
              "      <td>0</td>\n",
              "      <td>0</td>\n",
              "      <td>11.500000</td>\n",
              "      <td>2</td>\n",
              "      <td>23</td>\n",
              "      <td>0</td>\n",
              "      <td>0</td>\n",
              "      <td>-1</td>\n",
              "      <td>0</td>\n",
              "      <td>32</td>\n",
              "      <td>0.0</td>\n",
              "      <td>0.0</td>\n",
              "      <td>0</td>\n",
              "      <td>0</td>\n",
              "      <td>0.0</td>\n",
              "      <td>0.0</td>\n",
              "      <td>0</td>\n",
              "      <td>0</td>\n",
              "      <td>BENIGN</td>\n",
              "    </tr>\n",
              "    <tr>\n",
              "      <th>2</th>\n",
              "      <td>172.217.12.174-10.42.0.211-443-34259-6</td>\n",
              "      <td>34259</td>\n",
              "      <td>443</td>\n",
              "      <td>16/06/2017 03:55:52</td>\n",
              "      <td>119</td>\n",
              "      <td>23</td>\n",
              "      <td>0</td>\n",
              "      <td>11.500000</td>\n",
              "      <td>16.263456</td>\n",
              "      <td>0.000000</td>\n",
              "      <td>0.000000</td>\n",
              "      <td>193277.310900</td>\n",
              "      <td>16806.722690</td>\n",
              "      <td>119.00000</td>\n",
              "      <td>0.00000</td>\n",
              "      <td>119</td>\n",
              "      <td>119</td>\n",
              "      <td>119</td>\n",
              "      <td>119.0</td>\n",
              "      <td>0.00000</td>\n",
              "      <td>119</td>\n",
              "      <td>119</td>\n",
              "      <td>0</td>\n",
              "      <td>0.00000</td>\n",
              "      <td>0.00000</td>\n",
              "      <td>0</td>\n",
              "      <td>0</td>\n",
              "      <td>64.0</td>\n",
              "      <td>0.000000</td>\n",
              "      <td>0</td>\n",
              "      <td>23</td>\n",
              "      <td>0</td>\n",
              "      <td>1</td>\n",
              "      <td>0</td>\n",
              "      <td>0</td>\n",
              "      <td>11.500000</td>\n",
              "      <td>2</td>\n",
              "      <td>23</td>\n",
              "      <td>0</td>\n",
              "      <td>0</td>\n",
              "      <td>-1</td>\n",
              "      <td>0</td>\n",
              "      <td>32</td>\n",
              "      <td>0.0</td>\n",
              "      <td>0.0</td>\n",
              "      <td>0</td>\n",
              "      <td>0</td>\n",
              "      <td>0.0</td>\n",
              "      <td>0.0</td>\n",
              "      <td>0</td>\n",
              "      <td>0</td>\n",
              "      <td>BENIGN</td>\n",
              "    </tr>\n",
              "    <tr>\n",
              "      <th>3</th>\n",
              "      <td>172.217.10.74-10.42.0.211-443-55509-6</td>\n",
              "      <td>55509</td>\n",
              "      <td>443</td>\n",
              "      <td>16/06/2017 03:55:53</td>\n",
              "      <td>37055</td>\n",
              "      <td>31</td>\n",
              "      <td>0</td>\n",
              "      <td>31.000000</td>\n",
              "      <td>0.000000</td>\n",
              "      <td>0.000000</td>\n",
              "      <td>0.000000</td>\n",
              "      <td>836.594252</td>\n",
              "      <td>53.973823</td>\n",
              "      <td>37055.00000</td>\n",
              "      <td>0.00000</td>\n",
              "      <td>37055</td>\n",
              "      <td>37055</td>\n",
              "      <td>0</td>\n",
              "      <td>0.0</td>\n",
              "      <td>0.00000</td>\n",
              "      <td>0</td>\n",
              "      <td>0</td>\n",
              "      <td>0</td>\n",
              "      <td>0.00000</td>\n",
              "      <td>0.00000</td>\n",
              "      <td>0</td>\n",
              "      <td>0</td>\n",
              "      <td>32.0</td>\n",
              "      <td>26.986911</td>\n",
              "      <td>0</td>\n",
              "      <td>31</td>\n",
              "      <td>0</td>\n",
              "      <td>1</td>\n",
              "      <td>0</td>\n",
              "      <td>1</td>\n",
              "      <td>31.000000</td>\n",
              "      <td>1</td>\n",
              "      <td>31</td>\n",
              "      <td>1</td>\n",
              "      <td>0</td>\n",
              "      <td>391</td>\n",
              "      <td>0</td>\n",
              "      <td>32</td>\n",
              "      <td>0.0</td>\n",
              "      <td>0.0</td>\n",
              "      <td>0</td>\n",
              "      <td>0</td>\n",
              "      <td>0.0</td>\n",
              "      <td>0.0</td>\n",
              "      <td>0</td>\n",
              "      <td>0</td>\n",
              "      <td>BENIGN</td>\n",
              "    </tr>\n",
              "    <tr>\n",
              "      <th>4</th>\n",
              "      <td>172.217.2.174-10.42.0.211-443-44852-6</td>\n",
              "      <td>44852</td>\n",
              "      <td>443</td>\n",
              "      <td>16/06/2017 03:55:58</td>\n",
              "      <td>178727</td>\n",
              "      <td>1313</td>\n",
              "      <td>307</td>\n",
              "      <td>218.833333</td>\n",
              "      <td>331.306152</td>\n",
              "      <td>43.857143</td>\n",
              "      <td>75.366722</td>\n",
              "      <td>9064.103353</td>\n",
              "      <td>72.736632</td>\n",
              "      <td>14893.91667</td>\n",
              "      <td>18532.64075</td>\n",
              "      <td>62243</td>\n",
              "      <td>55</td>\n",
              "      <td>125550</td>\n",
              "      <td>25110.0</td>\n",
              "      <td>28468.23202</td>\n",
              "      <td>70464</td>\n",
              "      <td>172</td>\n",
              "      <td>156011</td>\n",
              "      <td>26001.83333</td>\n",
              "      <td>24955.90182</td>\n",
              "      <td>67743</td>\n",
              "      <td>55</td>\n",
              "      <td>200.0</td>\n",
              "      <td>39.165879</td>\n",
              "      <td>0</td>\n",
              "      <td>753</td>\n",
              "      <td>1</td>\n",
              "      <td>0</td>\n",
              "      <td>0</td>\n",
              "      <td>1</td>\n",
              "      <td>218.833333</td>\n",
              "      <td>6</td>\n",
              "      <td>1313</td>\n",
              "      <td>7</td>\n",
              "      <td>307</td>\n",
              "      <td>352</td>\n",
              "      <td>3</td>\n",
              "      <td>32</td>\n",
              "      <td>0.0</td>\n",
              "      <td>0.0</td>\n",
              "      <td>0</td>\n",
              "      <td>0</td>\n",
              "      <td>0.0</td>\n",
              "      <td>0.0</td>\n",
              "      <td>0</td>\n",
              "      <td>0</td>\n",
              "      <td>BENIGN</td>\n",
              "    </tr>\n",
              "  </tbody>\n",
              "</table>\n",
              "</div>"
            ],
            "text/plain": [
              "                                  Flow ID  Source Port  ...  Idle Min   Label\n",
              "0   172.217.2.174-10.42.0.211-443-51023-6        51023  ...         0  BENIGN\n",
              "1   172.217.2.174-10.42.0.211-443-51023-6        51023  ...         0  BENIGN\n",
              "2  172.217.12.174-10.42.0.211-443-34259-6        34259  ...         0  BENIGN\n",
              "3   172.217.10.74-10.42.0.211-443-55509-6        55509  ...         0  BENIGN\n",
              "4   172.217.2.174-10.42.0.211-443-44852-6        44852  ...         0  BENIGN\n",
              "\n",
              "[5 rows x 52 columns]"
            ]
          },
          "metadata": {
            "tags": []
          },
          "execution_count": 57
        }
      ]
    },
    {
      "cell_type": "code",
      "metadata": {
        "colab": {
          "base_uri": "https://localhost:8080/",
          "height": 434
        },
        "id": "PhZYCvLYu4bp",
        "outputId": "29280b81-d41d-4de9-a33a-74adc39de10c"
      },
      "source": [
        "df.tail()"
      ],
      "execution_count": null,
      "outputs": [
        {
          "output_type": "execute_result",
          "data": {
            "text/html": [
              "<div>\n",
              "<style scoped>\n",
              "    .dataframe tbody tr th:only-of-type {\n",
              "        vertical-align: middle;\n",
              "    }\n",
              "\n",
              "    .dataframe tbody tr th {\n",
              "        vertical-align: top;\n",
              "    }\n",
              "\n",
              "    .dataframe thead th {\n",
              "        text-align: right;\n",
              "    }\n",
              "</style>\n",
              "<table border=\"1\" class=\"dataframe\">\n",
              "  <thead>\n",
              "    <tr style=\"text-align: right;\">\n",
              "      <th></th>\n",
              "      <th>Flow ID</th>\n",
              "      <th>Source Port</th>\n",
              "      <th>Destination Port</th>\n",
              "      <th>Timestamp</th>\n",
              "      <th>Flow Duration</th>\n",
              "      <th>Total Length of Fwd Packets</th>\n",
              "      <th>Total Length of Bwd Packets</th>\n",
              "      <th>Fwd Packet Length Mean</th>\n",
              "      <th>Fwd Packet Length Std</th>\n",
              "      <th>Bwd Packet Length Max</th>\n",
              "      <th>Bwd Packet Length Std</th>\n",
              "      <th>Flow Bytes/s</th>\n",
              "      <th>Flow Packets/s</th>\n",
              "      <th>Flow IAT Mean</th>\n",
              "      <th>Flow IAT Std</th>\n",
              "      <th>Flow IAT Max</th>\n",
              "      <th>Flow IAT Min</th>\n",
              "      <th>Fwd IAT Total</th>\n",
              "      <th>Fwd IAT Mean</th>\n",
              "      <th>Fwd IAT Std</th>\n",
              "      <th>Fwd IAT Max</th>\n",
              "      <th>Fwd IAT Min</th>\n",
              "      <th>Bwd IAT Total</th>\n",
              "      <th>Bwd IAT Mean</th>\n",
              "      <th>Bwd IAT Std</th>\n",
              "      <th>Bwd IAT Max</th>\n",
              "      <th>Bwd IAT Min</th>\n",
              "      <th>Fwd PSH Flags</th>\n",
              "      <th>Bwd PSH Flags</th>\n",
              "      <th>Fwd Packets/s</th>\n",
              "      <th>Max Packet Length</th>\n",
              "      <th>Packet Length Mean</th>\n",
              "      <th>Packet Length Std</th>\n",
              "      <th>URG Flag Count</th>\n",
              "      <th>CWE Flag Count</th>\n",
              "      <th>ECE Flag Count</th>\n",
              "      <th>Avg Fwd Segment Size</th>\n",
              "      <th>Fwd Header Length.1</th>\n",
              "      <th>Subflow Bwd Packets</th>\n",
              "      <th>Subflow Bwd Bytes</th>\n",
              "      <th>Init_Win_bytes_forward</th>\n",
              "      <th>Init_Win_bytes_backward</th>\n",
              "      <th>min_seg_size_forward</th>\n",
              "      <th>Active Mean</th>\n",
              "      <th>Active Std</th>\n",
              "      <th>Active Max</th>\n",
              "      <th>Active Min</th>\n",
              "      <th>Idle Mean</th>\n",
              "      <th>Idle Std</th>\n",
              "      <th>Idle Max</th>\n",
              "      <th>Idle Min</th>\n",
              "      <th>Label</th>\n",
              "    </tr>\n",
              "  </thead>\n",
              "  <tbody>\n",
              "    <tr>\n",
              "      <th>1048570</th>\n",
              "      <td>10.42.0.1-10.42.0.42-53-52113-17</td>\n",
              "      <td>52113</td>\n",
              "      <td>53</td>\n",
              "      <td>28/08/2017 03:29:57</td>\n",
              "      <td>377347</td>\n",
              "      <td>44</td>\n",
              "      <td>194</td>\n",
              "      <td>44.0</td>\n",
              "      <td>0.000000</td>\n",
              "      <td>194.0</td>\n",
              "      <td>0.0</td>\n",
              "      <td>630.719205</td>\n",
              "      <td>5.300161</td>\n",
              "      <td>377347.00</td>\n",
              "      <td>0.00</td>\n",
              "      <td>377347</td>\n",
              "      <td>377347</td>\n",
              "      <td>0</td>\n",
              "      <td>0.00</td>\n",
              "      <td>0.00</td>\n",
              "      <td>0</td>\n",
              "      <td>0</td>\n",
              "      <td>0</td>\n",
              "      <td>0.0</td>\n",
              "      <td>0.0</td>\n",
              "      <td>0</td>\n",
              "      <td>0</td>\n",
              "      <td>40.0</td>\n",
              "      <td>2.650081</td>\n",
              "      <td>44</td>\n",
              "      <td>194</td>\n",
              "      <td>0</td>\n",
              "      <td>0</td>\n",
              "      <td>0</td>\n",
              "      <td>1</td>\n",
              "      <td>44.0</td>\n",
              "      <td>1</td>\n",
              "      <td>44</td>\n",
              "      <td>1</td>\n",
              "      <td>194</td>\n",
              "      <td>-1</td>\n",
              "      <td>0</td>\n",
              "      <td>40</td>\n",
              "      <td>0.0</td>\n",
              "      <td>0.0</td>\n",
              "      <td>0</td>\n",
              "      <td>0</td>\n",
              "      <td>0.0</td>\n",
              "      <td>0.0</td>\n",
              "      <td>0</td>\n",
              "      <td>0</td>\n",
              "      <td>RANSOMWARE_SVPENG</td>\n",
              "    </tr>\n",
              "    <tr>\n",
              "      <th>1048571</th>\n",
              "      <td>180.149.153.68-10.42.0.42-80-57160-6</td>\n",
              "      <td>80</td>\n",
              "      <td>57160</td>\n",
              "      <td>28/08/2017 04:10:18</td>\n",
              "      <td>2261</td>\n",
              "      <td>0</td>\n",
              "      <td>0</td>\n",
              "      <td>0.0</td>\n",
              "      <td>0.000000</td>\n",
              "      <td>0.0</td>\n",
              "      <td>0.0</td>\n",
              "      <td>0.000000</td>\n",
              "      <td>884.564352</td>\n",
              "      <td>2261.00</td>\n",
              "      <td>0.00</td>\n",
              "      <td>2261</td>\n",
              "      <td>2261</td>\n",
              "      <td>0</td>\n",
              "      <td>0.00</td>\n",
              "      <td>0.00</td>\n",
              "      <td>0</td>\n",
              "      <td>0</td>\n",
              "      <td>0</td>\n",
              "      <td>0.0</td>\n",
              "      <td>0.0</td>\n",
              "      <td>0</td>\n",
              "      <td>0</td>\n",
              "      <td>32.0</td>\n",
              "      <td>442.282176</td>\n",
              "      <td>0</td>\n",
              "      <td>0</td>\n",
              "      <td>0</td>\n",
              "      <td>1</td>\n",
              "      <td>1</td>\n",
              "      <td>1</td>\n",
              "      <td>0.0</td>\n",
              "      <td>1</td>\n",
              "      <td>0</td>\n",
              "      <td>1</td>\n",
              "      <td>0</td>\n",
              "      <td>1369</td>\n",
              "      <td>0</td>\n",
              "      <td>32</td>\n",
              "      <td>0.0</td>\n",
              "      <td>0.0</td>\n",
              "      <td>0</td>\n",
              "      <td>0</td>\n",
              "      <td>0.0</td>\n",
              "      <td>0.0</td>\n",
              "      <td>0</td>\n",
              "      <td>0</td>\n",
              "      <td>RANSOMWARE_SVPENG</td>\n",
              "    </tr>\n",
              "    <tr>\n",
              "      <th>1048572</th>\n",
              "      <td>10.42.0.1-10.42.0.42-53-17292-17</td>\n",
              "      <td>17292</td>\n",
              "      <td>53</td>\n",
              "      <td>28/08/2017 04:13:40</td>\n",
              "      <td>840872</td>\n",
              "      <td>32</td>\n",
              "      <td>207</td>\n",
              "      <td>32.0</td>\n",
              "      <td>0.000000</td>\n",
              "      <td>207.0</td>\n",
              "      <td>0.0</td>\n",
              "      <td>284.228753</td>\n",
              "      <td>2.378483</td>\n",
              "      <td>840872.00</td>\n",
              "      <td>0.00</td>\n",
              "      <td>840872</td>\n",
              "      <td>840872</td>\n",
              "      <td>0</td>\n",
              "      <td>0.00</td>\n",
              "      <td>0.00</td>\n",
              "      <td>0</td>\n",
              "      <td>0</td>\n",
              "      <td>0</td>\n",
              "      <td>0.0</td>\n",
              "      <td>0.0</td>\n",
              "      <td>0</td>\n",
              "      <td>0</td>\n",
              "      <td>40.0</td>\n",
              "      <td>1.189242</td>\n",
              "      <td>32</td>\n",
              "      <td>207</td>\n",
              "      <td>0</td>\n",
              "      <td>0</td>\n",
              "      <td>0</td>\n",
              "      <td>1</td>\n",
              "      <td>32.0</td>\n",
              "      <td>1</td>\n",
              "      <td>32</td>\n",
              "      <td>1</td>\n",
              "      <td>207</td>\n",
              "      <td>-1</td>\n",
              "      <td>0</td>\n",
              "      <td>40</td>\n",
              "      <td>0.0</td>\n",
              "      <td>0.0</td>\n",
              "      <td>0</td>\n",
              "      <td>0</td>\n",
              "      <td>0.0</td>\n",
              "      <td>0.0</td>\n",
              "      <td>0</td>\n",
              "      <td>0</td>\n",
              "      <td>RANSOMWARE_SVPENG</td>\n",
              "    </tr>\n",
              "    <tr>\n",
              "      <th>1048573</th>\n",
              "      <td>10.42.0.42-120.132.42.172-44600-80-6</td>\n",
              "      <td>80</td>\n",
              "      <td>44600</td>\n",
              "      <td>28/08/2017 04:08:08</td>\n",
              "      <td>2394</td>\n",
              "      <td>0</td>\n",
              "      <td>0</td>\n",
              "      <td>0.0</td>\n",
              "      <td>0.000000</td>\n",
              "      <td>0.0</td>\n",
              "      <td>0.0</td>\n",
              "      <td>0.000000</td>\n",
              "      <td>835.421888</td>\n",
              "      <td>2394.00</td>\n",
              "      <td>0.00</td>\n",
              "      <td>2394</td>\n",
              "      <td>2394</td>\n",
              "      <td>0</td>\n",
              "      <td>0.00</td>\n",
              "      <td>0.00</td>\n",
              "      <td>0</td>\n",
              "      <td>0</td>\n",
              "      <td>0</td>\n",
              "      <td>0.0</td>\n",
              "      <td>0.0</td>\n",
              "      <td>0</td>\n",
              "      <td>0</td>\n",
              "      <td>32.0</td>\n",
              "      <td>417.710944</td>\n",
              "      <td>0</td>\n",
              "      <td>0</td>\n",
              "      <td>0</td>\n",
              "      <td>1</td>\n",
              "      <td>1</td>\n",
              "      <td>1</td>\n",
              "      <td>0.0</td>\n",
              "      <td>1</td>\n",
              "      <td>0</td>\n",
              "      <td>1</td>\n",
              "      <td>0</td>\n",
              "      <td>1369</td>\n",
              "      <td>0</td>\n",
              "      <td>32</td>\n",
              "      <td>0.0</td>\n",
              "      <td>0.0</td>\n",
              "      <td>0</td>\n",
              "      <td>0</td>\n",
              "      <td>0.0</td>\n",
              "      <td>0.0</td>\n",
              "      <td>0</td>\n",
              "      <td>0</td>\n",
              "      <td>RANSOMWARE_SVPENG</td>\n",
              "    </tr>\n",
              "    <tr>\n",
              "      <th>1048574</th>\n",
              "      <td>204.13.194.242-10.42.0.42-443-42974-6</td>\n",
              "      <td>42974</td>\n",
              "      <td>443</td>\n",
              "      <td>28/08/2017 03:34:09</td>\n",
              "      <td>114924911</td>\n",
              "      <td>62</td>\n",
              "      <td>0</td>\n",
              "      <td>15.5</td>\n",
              "      <td>17.897858</td>\n",
              "      <td>0.0</td>\n",
              "      <td>0.0</td>\n",
              "      <td>0.539483</td>\n",
              "      <td>0.034805</td>\n",
              "      <td>38308303.67</td>\n",
              "      <td>66316512.47</td>\n",
              "      <td>114884013</td>\n",
              "      <td>938</td>\n",
              "      <td>114924911</td>\n",
              "      <td>38308303.67</td>\n",
              "      <td>66316512.47</td>\n",
              "      <td>114884013</td>\n",
              "      <td>938</td>\n",
              "      <td>0</td>\n",
              "      <td>0.0</td>\n",
              "      <td>0.0</td>\n",
              "      <td>0</td>\n",
              "      <td>0</td>\n",
              "      <td>80.0</td>\n",
              "      <td>0.000000</td>\n",
              "      <td>0</td>\n",
              "      <td>31</td>\n",
              "      <td>0</td>\n",
              "      <td>1</td>\n",
              "      <td>1</td>\n",
              "      <td>0</td>\n",
              "      <td>15.5</td>\n",
              "      <td>4</td>\n",
              "      <td>62</td>\n",
              "      <td>0</td>\n",
              "      <td>0</td>\n",
              "      <td>-1</td>\n",
              "      <td>1</td>\n",
              "      <td>20</td>\n",
              "      <td>39960.0</td>\n",
              "      <td>0.0</td>\n",
              "      <td>39960</td>\n",
              "      <td>39960</td>\n",
              "      <td>114884013.0</td>\n",
              "      <td>0.0</td>\n",
              "      <td>114884013</td>\n",
              "      <td>114884013</td>\n",
              "      <td>RANSOMWARE_SVPENG</td>\n",
              "    </tr>\n",
              "  </tbody>\n",
              "</table>\n",
              "</div>"
            ],
            "text/plain": [
              "                                       Flow ID  ...              Label\n",
              "1048570       10.42.0.1-10.42.0.42-53-52113-17  ...  RANSOMWARE_SVPENG\n",
              "1048571   180.149.153.68-10.42.0.42-80-57160-6  ...  RANSOMWARE_SVPENG\n",
              "1048572       10.42.0.1-10.42.0.42-53-17292-17  ...  RANSOMWARE_SVPENG\n",
              "1048573   10.42.0.42-120.132.42.172-44600-80-6  ...  RANSOMWARE_SVPENG\n",
              "1048574  204.13.194.242-10.42.0.42-443-42974-6  ...  RANSOMWARE_SVPENG\n",
              "\n",
              "[5 rows x 52 columns]"
            ]
          },
          "metadata": {
            "tags": []
          },
          "execution_count": 58
        }
      ]
    },
    {
      "cell_type": "code",
      "metadata": {
        "colab": {
          "base_uri": "https://localhost:8080/"
        },
        "id": "WX4aL08Ku9Sm",
        "outputId": "9f04f410-44ba-48c1-f36b-02c4e6e9b69e"
      },
      "source": [
        "df['Label'].value_counts()\n",
        "dep_var = 'Label'\n",
        "df[dep_var].value_counts()"
      ],
      "execution_count": null,
      "outputs": [
        {
          "output_type": "execute_result",
          "data": {
            "text/plain": [
              "BENIGN                   410548\n",
              "RANSOMWARE               348943\n",
              "RANSOMWARE_PORNDROID      46082\n",
              "RANSOMWARE_KOLER          44555\n",
              "RANSOMWARE_RANSOMBO       39859\n",
              "RANSOMWARE_CHARGER        39551\n",
              "RANSOMWARE_SIMPLOCKER     36340\n",
              "RANSOMWARE_SVPENG         27003\n",
              "RANSOMWARE_JISUT          25672\n",
              "RANSOMWARE_LOCKERPIN      25307\n",
              "RANSOMWARE_PLETOR          4715\n",
              "Name: Label, dtype: int64"
            ]
          },
          "metadata": {
            "tags": []
          },
          "execution_count": 59
        }
      ]
    },
    {
      "cell_type": "code",
      "metadata": {
        "colab": {
          "base_uri": "https://localhost:8080/"
        },
        "id": "qmUF37EDvB6T",
        "outputId": "2b0161d3-f58b-4cb1-d33f-14df4314f92b"
      },
      "source": [
        "df.info()"
      ],
      "execution_count": null,
      "outputs": [
        {
          "output_type": "stream",
          "text": [
            "<class 'pandas.core.frame.DataFrame'>\n",
            "RangeIndex: 1048575 entries, 0 to 1048574\n",
            "Data columns (total 52 columns):\n",
            " #   Column                       Non-Null Count    Dtype  \n",
            "---  ------                       --------------    -----  \n",
            " 0   Flow ID                      1048575 non-null  object \n",
            " 1   Source Port                  1048575 non-null  int64  \n",
            " 2   Destination Port             1048575 non-null  int64  \n",
            " 3   Timestamp                    1048575 non-null  object \n",
            " 4   Flow Duration                1048575 non-null  int64  \n",
            " 5   Total Length of Fwd Packets  1048575 non-null  int64  \n",
            " 6   Total Length of Bwd Packets  1048575 non-null  int64  \n",
            " 7   Fwd Packet Length Mean       1048575 non-null  float64\n",
            " 8   Fwd Packet Length Std        1048575 non-null  float64\n",
            " 9   Bwd Packet Length Max        1048575 non-null  float64\n",
            " 10  Bwd Packet Length Std        1048575 non-null  float64\n",
            " 11  Flow Bytes/s                 1048575 non-null  float64\n",
            " 12  Flow Packets/s               1048575 non-null  float64\n",
            " 13  Flow IAT Mean                1048575 non-null  float64\n",
            " 14  Flow IAT Std                 1048575 non-null  float64\n",
            " 15  Flow IAT Max                 1048575 non-null  int64  \n",
            " 16  Flow IAT Min                 1048575 non-null  int64  \n",
            " 17  Fwd IAT Total                1048575 non-null  int64  \n",
            " 18  Fwd IAT Mean                 1048575 non-null  float64\n",
            " 19  Fwd IAT Std                  1048575 non-null  float64\n",
            " 20  Fwd IAT Max                  1048575 non-null  int64  \n",
            " 21  Fwd IAT Min                  1048575 non-null  int64  \n",
            " 22  Bwd IAT Total                1048575 non-null  int64  \n",
            " 23  Bwd IAT Mean                 1048575 non-null  float64\n",
            " 24  Bwd IAT Std                  1048575 non-null  float64\n",
            " 25  Bwd IAT Max                  1048575 non-null  int64  \n",
            " 26  Bwd IAT Min                  1048575 non-null  int64  \n",
            " 27  Fwd PSH Flags                1048575 non-null  float64\n",
            " 28  Bwd PSH Flags                1048575 non-null  float64\n",
            " 29  Fwd Packets/s                1048575 non-null  int64  \n",
            " 30  Max Packet Length            1048575 non-null  int64  \n",
            " 31  Packet Length Mean           1048575 non-null  int64  \n",
            " 32  Packet Length Std            1048575 non-null  int64  \n",
            " 33  URG Flag Count               1048575 non-null  int64  \n",
            " 34  CWE Flag Count               1048575 non-null  int64  \n",
            " 35  ECE Flag Count               1048575 non-null  float64\n",
            " 36  Avg Fwd Segment Size         1048575 non-null  int64  \n",
            " 37  Fwd Header Length.1          1048575 non-null  int64  \n",
            " 38  Subflow Bwd Packets          1048575 non-null  int64  \n",
            " 39  Subflow Bwd Bytes            1048575 non-null  int64  \n",
            " 40  Init_Win_bytes_forward       1048575 non-null  int64  \n",
            " 41  Init_Win_bytes_backward      1048575 non-null  int64  \n",
            " 42  min_seg_size_forward         1048575 non-null  int64  \n",
            " 43  Active Mean                  1048575 non-null  float64\n",
            " 44  Active Std                   1048575 non-null  float64\n",
            " 45  Active Max                   1048575 non-null  int64  \n",
            " 46  Active Min                   1048575 non-null  int64  \n",
            " 47  Idle Mean                    1048575 non-null  float64\n",
            " 48  Idle Std                     1048575 non-null  float64\n",
            " 49  Idle Max                     1048575 non-null  int64  \n",
            " 50  Idle Min                     1048575 non-null  int64  \n",
            " 51  Label                        1048575 non-null  object \n",
            "dtypes: float64(19), int64(30), object(3)\n",
            "memory usage: 416.0+ MB\n"
          ],
          "name": "stdout"
        }
      ]
    },
    {
      "cell_type": "code",
      "metadata": {
        "colab": {
          "base_uri": "https://localhost:8080/"
        },
        "id": "tWam2TuVeQtV",
        "outputId": "d8bcef7c-dbf1-40c8-8bc1-8447c3c49d4e"
      },
      "source": [
        "df.columns"
      ],
      "execution_count": null,
      "outputs": [
        {
          "output_type": "execute_result",
          "data": {
            "text/plain": [
              "Index(['Flow ID', 'Source Port', 'Destination Port', 'Timestamp',\n",
              "       'Flow Duration', 'Total Length of Fwd Packets',\n",
              "       'Total Length of Bwd Packets', 'Fwd Packet Length Mean',\n",
              "       'Fwd Packet Length Std', 'Bwd Packet Length Max',\n",
              "       'Bwd Packet Length Std', 'Flow Bytes/s', 'Flow Packets/s',\n",
              "       'Flow IAT Mean', 'Flow IAT Std', 'Flow IAT Max', 'Flow IAT Min',\n",
              "       'Fwd IAT Total', 'Fwd IAT Mean', 'Fwd IAT Std', 'Fwd IAT Max',\n",
              "       'Fwd IAT Min', 'Bwd IAT Total', 'Bwd IAT Mean', 'Bwd IAT Std',\n",
              "       'Bwd IAT Max', 'Bwd IAT Min', 'Fwd PSH Flags', 'Bwd PSH Flags',\n",
              "       'Fwd Packets/s', 'Max Packet Length', 'Packet Length Mean',\n",
              "       'Packet Length Std', 'URG Flag Count', 'CWE Flag Count',\n",
              "       'ECE Flag Count', 'Avg Fwd Segment Size', 'Fwd Header Length.1',\n",
              "       'Subflow Bwd Packets', 'Subflow Bwd Bytes', 'Init_Win_bytes_forward',\n",
              "       'Init_Win_bytes_backward', 'min_seg_size_forward', 'Active Mean',\n",
              "       'Active Std', 'Active Max', 'Active Min', 'Idle Mean', 'Idle Std',\n",
              "       'Idle Max', 'Idle Min', 'Label'],\n",
              "      dtype='object')"
            ]
          },
          "metadata": {
            "tags": []
          },
          "execution_count": 61
        }
      ]
    },
    {
      "cell_type": "code",
      "metadata": {
        "id": "Zgx5sK2FQ23r"
      },
      "source": [
        "y = df[dep_var]\n",
        "del df[dep_var]"
      ],
      "execution_count": null,
      "outputs": []
    },
    {
      "cell_type": "code",
      "metadata": {
        "id": "vfHE5-T9ahqn",
        "colab": {
          "base_uri": "https://localhost:8080/"
        },
        "outputId": "bf295dc7-b206-43e6-cc26-da9799d74423"
      },
      "source": [
        "\n",
        "X = (df - df.mean()) / (df.max() - df.min())\n",
        "X = X.values\n",
        "#X = df\n",
        "print(X.shape)"
      ],
      "execution_count": null,
      "outputs": [
        {
          "output_type": "stream",
          "text": [
            "(1048575, 51)\n"
          ],
          "name": "stdout"
        }
      ]
    },
    {
      "cell_type": "code",
      "metadata": {
        "id": "paWG_BMQA_Hx"
      },
      "source": [
        "valid_cols = ['Flow ID', 'Source IP', 'Source Port',\n",
        "       'Destination IP', 'Destination Port', 'Protocol', 'Timestamp',\n",
        "       'Flow Duration', 'Total Fwd Packets', 'Total Backward Packets',\n",
        "       'Total Length of Fwd Packets', 'Total Length of Bwd Packets',\n",
        "       'Fwd Packet Length Max', 'Fwd Packet Length Min',\n",
        "       'Fwd Packet Length Mean', 'Fwd Packet Length Std',\n",
        "       'Bwd Packet Length Max', 'Bwd Packet Length Min',\n",
        "       'Bwd Packet Length Mean', 'Bwd Packet Length Std', 'Flow Bytes/s',\n",
        "       'Flow Packets/s', 'Flow IAT Mean', 'Flow IAT Std', 'Flow IAT Max',\n",
        "       'Flow IAT Min', 'Fwd IAT Total', 'Fwd IAT Mean', 'Fwd IAT Std',\n",
        "       'Fwd IAT Max', 'Fwd IAT Min', 'Bwd IAT Total', 'Bwd IAT Mean',\n",
        "       'Bwd IAT Std', 'Bwd IAT Max', 'Bwd IAT Min', 'Fwd PSH Flags',\n",
        "       'Bwd PSH Flags', 'Fwd URG Flags', 'Bwd URG Flags', 'Fwd Header Length',\n",
        "       'Bwd Header Length', 'Fwd Packets/s', 'Bwd Packets/s',\n",
        "       'Min Packet Length', 'Max Packet Length', 'Packet Length Mean',\n",
        "       'Packet Length Std', 'Packet Length Variance', 'FIN Flag Count',\n",
        "       'SYN Flag Count', 'RST Flag Count', 'PSH Flag Count', 'ACK Flag Count',\n",
        "       'URG Flag Count', 'CWE Flag Count', 'ECE Flag Count', 'Down/Up Ratio',\n",
        "       'Average Packet Size', 'Avg Fwd Segment Size', 'Avg Bwd Segment Size',\n",
        "       'Fwd Header Length.1', 'Fwd Avg Bytes/Bulk', 'Fwd Avg Packets/Bulk',\n",
        "       'Fwd Avg Bulk Rate', 'Bwd Avg Bytes/Bulk', 'Bwd Avg Packets/Bulk',\n",
        "       'Bwd Avg Bulk Rate', 'Subflow Fwd Packets', 'Subflow Fwd Bytes',\n",
        "       'Subflow Bwd Packets', 'Subflow Bwd Bytes', 'Init_Win_bytes_forward',\n",
        "       'Init_Win_bytes_backward', 'act_data_pkt_fwd', 'min_seg_size_forward',\n",
        "       'Active Mean', 'Active Std', 'Active Max', 'Active Min', 'Idle Mean',\n",
        "       'Idle Std', 'Idle Max', 'Idle Min', 'Label']\n",
        "for col in X.columns:\n",
        "    #print(X[col].dtype)\n",
        "    if X[col].dtype == 'object' or col not in valid_cols:\n",
        "        del X[col]\n",
        "        #print('dropped')"
      ],
      "execution_count": null,
      "outputs": []
    },
    {
      "cell_type": "code",
      "metadata": {
        "colab": {
          "base_uri": "https://localhost:8080/"
        },
        "id": "rK76xXGD0v51",
        "outputId": "c7bd19fc-5a50-41fa-c9a8-f477818f55c4"
      },
      "source": [
        "print(X.shape)\n",
        "X1=X.copy()\n",
        "X2=X.copy()\n",
        "y1=y.copy()\n",
        "y2=y.copy()"
      ],
      "execution_count": null,
      "outputs": [
        {
          "output_type": "stream",
          "text": [
            "(1048575, 49)\n"
          ],
          "name": "stdout"
        }
      ]
    },
    {
      "cell_type": "code",
      "metadata": {
        "id": "FDzqCxBH0w-G"
      },
      "source": [
        "df1=df.copy()\n",
        "df2=df.copy()"
      ],
      "execution_count": null,
      "outputs": []
    },
    {
      "cell_type": "code",
      "metadata": {
        "colab": {
          "base_uri": "https://localhost:8080/"
        },
        "id": "CVUIHEez1E70",
        "outputId": "d634b2d9-fb15-42fa-882d-57d397bd277c"
      },
      "source": [
        "# Technique from https://machinelearningmastery.com/feature-selection-machine-learning-python/\n",
        "# feature extraction\n",
        "test = SelectFpr(score_func=f_classif, alpha=0.05)\n",
        "fit = test.fit(X, y)\n",
        "# summarize scores\n",
        "np.set_printoptions(precision=3)\n",
        "#print(fit.scores_)\n",
        "dictt = []\n",
        "i=0\n",
        "for col in X.columns:\n",
        "    score = fit.scores_[i]\n",
        "    #print(score)\n",
        "    i+=1\n",
        "    if not math.isnan(float(score)):\n",
        "        dictt.append([col, score])    \n",
        "    \n",
        "#dictt = sorted(dictt, key=operator.itemgetter(1), reverse=True)\n",
        "dictt.sort(key=lambda arr : float(arr[1]), reverse=True)\n",
        "\n",
        "outstr = ''\n",
        "\n",
        "i=1\n",
        "for col, score in dictt[:20]:\n",
        "    #if not math.isnan(float(score)):\n",
        "    print('{}\\t{}\\t{}'.format(i, col, score))\n",
        "    i+=1\n",
        "    \n",
        "    outstr += '\\'' + col + '\\', '\n",
        "\n",
        "print(outstr)\n"
      ],
      "execution_count": null,
      "outputs": [
        {
          "output_type": "stream",
          "text": [
            "1\tActive Max\t677.6000614382294\n",
            "2\tDestination Port\t617.1654480819002\n",
            "3\tActive Std\t531.3617253049655\n",
            "4\tActive Mean\t487.7271720509815\n",
            "5\tInit_Win_bytes_backward\t466.4327605491759\n",
            "6\tURG Flag Count\t446.0371823679936\n",
            "7\tTotal Length of Fwd Packets\t406.4139291026289\n",
            "8\tFwd Header Length.1\t406.4139291026289\n",
            "9\tSource Port\t397.7716672219904\n",
            "10\tFlow IAT Mean\t370.94468404250125\n",
            "11\tFlow IAT Min\t289.4728599246458\n",
            "12\tFwd IAT Total\t287.69516928161494\n",
            "13\tActive Min\t275.8639691756266\n",
            "14\tFwd IAT Max\t244.84775107860798\n",
            "15\tFwd IAT Mean\t243.04861113906384\n",
            "16\tPacket Length Std\t242.16766421699666\n",
            "17\tFwd IAT Min\t225.10398521933095\n",
            "18\tFwd IAT Std\t212.62156667885895\n",
            "19\tAvg Fwd Segment Size\t210.57948357778236\n",
            "20\tFlow IAT Max\t207.23978764730646\n",
            "'Active Max', 'Destination Port', 'Active Std', 'Active Mean', 'Init_Win_bytes_backward', 'URG Flag Count', 'Total Length of Fwd Packets', 'Fwd Header Length.1', 'Source Port', 'Flow IAT Mean', 'Flow IAT Min', 'Fwd IAT Total', 'Active Min', 'Fwd IAT Max', 'Fwd IAT Mean', 'Packet Length Std', 'Fwd IAT Min', 'Fwd IAT Std', 'Avg Fwd Segment Size', 'Flow IAT Max', \n"
          ],
          "name": "stdout"
        }
      ]
    },
    {
      "cell_type": "code",
      "metadata": {
        "colab": {
          "base_uri": "https://localhost:8080/"
        },
        "id": "bK7g-9rr1LBP",
        "outputId": "a40eb3ab-a0da-4bef-c877-ef1820fed2ae"
      },
      "source": [
        "cols_to_keep = ['Active Max', 'Destination Port', 'Active Std', 'Active Mean', 'Init_Win_bytes_backward', 'URG Flag Count', 'Total Length of Fwd Packets', 'Fwd Header Length.1', 'Source Port', 'Flow IAT Mean', 'Flow IAT Min', 'Fwd IAT Total', 'Active Min', 'Fwd IAT Max', 'Fwd IAT Mean', 'Packet Length Std', 'Fwd IAT Min', 'Fwd IAT Std', 'Avg Fwd Segment Size', 'Flow IAT Max',\n",
        "                    'Label']\n",
        "print('Dropping unnecessary columns...')\n",
        "df.drop(columns=[col for col in df.columns if col not in cols_to_keep], inplace=True, errors='raise') \n",
        "df.dropna(inplace=True)\n"
      ],
      "execution_count": null,
      "outputs": [
        {
          "output_type": "stream",
          "text": [
            "Dropping unnecessary columns...\n"
          ],
          "name": "stdout"
        }
      ]
    },
    {
      "cell_type": "code",
      "metadata": {
        "colab": {
          "base_uri": "https://localhost:8080/"
        },
        "id": "tJx-uM2C1Oer",
        "outputId": "c30c0dec-5fbb-44d3-a853-31948f2f5937"
      },
      "source": [
        "df.info()"
      ],
      "execution_count": null,
      "outputs": [
        {
          "output_type": "stream",
          "text": [
            "<class 'pandas.core.frame.DataFrame'>\n",
            "Int64Index: 1048575 entries, 0 to 1048574\n",
            "Data columns (total 20 columns):\n",
            " #   Column                       Non-Null Count    Dtype  \n",
            "---  ------                       --------------    -----  \n",
            " 0   Source Port                  1048575 non-null  int64  \n",
            " 1   Destination Port             1048575 non-null  int64  \n",
            " 2   Total Length of Fwd Packets  1048575 non-null  int64  \n",
            " 3   Flow IAT Mean                1048575 non-null  float64\n",
            " 4   Flow IAT Max                 1048575 non-null  int64  \n",
            " 5   Flow IAT Min                 1048575 non-null  int64  \n",
            " 6   Fwd IAT Total                1048575 non-null  int64  \n",
            " 7   Fwd IAT Mean                 1048575 non-null  float64\n",
            " 8   Fwd IAT Std                  1048575 non-null  float64\n",
            " 9   Fwd IAT Max                  1048575 non-null  int64  \n",
            " 10  Fwd IAT Min                  1048575 non-null  int64  \n",
            " 11  Packet Length Std            1048575 non-null  int64  \n",
            " 12  URG Flag Count               1048575 non-null  int64  \n",
            " 13  Avg Fwd Segment Size         1048575 non-null  int64  \n",
            " 14  Fwd Header Length.1          1048575 non-null  int64  \n",
            " 15  Init_Win_bytes_backward      1048575 non-null  int64  \n",
            " 16  Active Mean                  1048575 non-null  float64\n",
            " 17  Active Std                   1048575 non-null  float64\n",
            " 18  Active Max                   1048575 non-null  int64  \n",
            " 19  Active Min                   1048575 non-null  int64  \n",
            "dtypes: float64(5), int64(15)\n",
            "memory usage: 168.0 MB\n"
          ],
          "name": "stdout"
        }
      ]
    },
    {
      "cell_type": "code",
      "metadata": {
        "colab": {
          "base_uri": "https://localhost:8080/"
        },
        "id": "T14fUR281R-j",
        "outputId": "323d5b91-b344-49c3-8979-d079f8678f79"
      },
      "source": [
        "print(X.shape)\n",
        "print(y.shape)"
      ],
      "execution_count": null,
      "outputs": [
        {
          "output_type": "stream",
          "text": [
            "(1048575, 20)\n",
            "(1048575,)\n"
          ],
          "name": "stdout"
        }
      ]
    },
    {
      "cell_type": "code",
      "metadata": {
        "colab": {
          "base_uri": "https://localhost:8080/"
        },
        "id": "L3snWuVlpQ_T",
        "outputId": "fcc707d0-872b-4882-cdd2-e58f1cdfd240"
      },
      "source": [
        "X = normalize( ( df.loc[:, df.columns != dep_var] ).values )\n",
        "\n",
        "# One-Hot Encoding for the target classification\n",
        "label_encoder = LabelEncoder()\n",
        "#y = label_encoder.fit_transform(y)\n",
        "y = y.map(lambda classif : 0 if classif == 'BENIGN' else 1)\n",
        "y = keras.utils.to_categorical(y, num_classes=y.nunique())\n",
        "\n",
        "print('Data:')\n",
        "print(X[:5, :])\n"
      ],
      "execution_count": null,
      "outputs": [
        {
          "output_type": "stream",
          "text": [
            "Data:\n",
            "[[3.909e-01 3.394e-03 8.243e-03 8.902e-02 3.762e-01 1.839e-04 7.806e-01\n",
            "  1.561e-01 9.823e-02 2.331e-01 8.504e-04 0.000e+00 0.000e+00 4.597e-05\n",
            "  8.243e-03 2.298e-05 0.000e+00 0.000e+00 0.000e+00 0.000e+00]\n",
            " [9.998e-01 8.681e-03 4.507e-04 6.839e-03 6.839e-03 6.839e-03 6.839e-03\n",
            "  6.839e-03 0.000e+00 6.839e-03 6.839e-03 1.960e-05 0.000e+00 3.919e-05\n",
            "  4.507e-04 0.000e+00 0.000e+00 0.000e+00 0.000e+00 0.000e+00]\n",
            " [9.999e-01 1.293e-02 6.713e-04 3.473e-03 3.473e-03 3.473e-03 3.473e-03\n",
            "  3.473e-03 0.000e+00 3.473e-03 3.473e-03 2.919e-05 0.000e+00 5.837e-05\n",
            "  6.713e-04 0.000e+00 0.000e+00 0.000e+00 0.000e+00 0.000e+00]\n",
            " [6.541e-01 5.221e-03 3.653e-04 4.367e-01 4.367e-01 4.367e-01 0.000e+00\n",
            "  0.000e+00 0.000e+00 0.000e+00 0.000e+00 1.178e-05 0.000e+00 1.178e-05\n",
            "  3.653e-04 0.000e+00 0.000e+00 0.000e+00 0.000e+00 0.000e+00]\n",
            " [2.667e-01 2.634e-03 7.808e-03 8.857e-02 3.701e-01 3.271e-04 7.466e-01\n",
            "  1.493e-01 1.693e-01 4.190e-01 1.023e-03 0.000e+00 0.000e+00 3.568e-05\n",
            "  7.808e-03 1.784e-05 0.000e+00 0.000e+00 0.000e+00 0.000e+00]]\n"
          ],
          "name": "stdout"
        }
      ]
    },
    {
      "cell_type": "code",
      "metadata": {
        "colab": {
          "base_uri": "https://localhost:8080/"
        },
        "id": "mUn287KJqpYP",
        "outputId": "ce40268a-a00a-4d38-8cfb-b755ed290364"
      },
      "source": [
        "X.shape"
      ],
      "execution_count": null,
      "outputs": [
        {
          "output_type": "execute_result",
          "data": {
            "text/plain": [
              "(1048575, 20)"
            ]
          },
          "metadata": {
            "tags": []
          },
          "execution_count": 71
        }
      ]
    },
    {
      "cell_type": "code",
      "metadata": {
        "id": "Yk1w89OurHFB"
      },
      "source": [
        "X_train, X_test, y_train, y_test = train_test_split(X, y, test_size=0.33, shuffle=True, stratify=y, random_state=1)"
      ],
      "execution_count": null,
      "outputs": []
    },
    {
      "cell_type": "code",
      "metadata": {
        "id": "SGLIe2j05Kij"
      },
      "source": [
        "total_folds=10\n",
        "fold_num=1"
      ],
      "execution_count": null,
      "outputs": []
    },
    {
      "cell_type": "code",
      "metadata": {
        "colab": {
          "base_uri": "https://localhost:8080/"
        },
        "id": "Rvwrl4ewIDLa",
        "outputId": "66753db8-5809-4a15-ae93-b8eacf4d8d5b"
      },
      "source": [
        "\n",
        "\n",
        "accuracy = CategoricalAccuracy() \t# Will change this to Categorical if the target classification is categorical\n",
        "tp = TruePositives()\t\t# These could be collected with a confusion matrix, however translating back\n",
        "tn = TrueNegatives()\t\t#  and forth from an image may be frustrating (it was last time I did it)\n",
        "fp = FalsePositives()\n",
        "fn = FalseNegatives()\n",
        "metrics = [accuracy, tp, tn, fp, fn]\n",
        "\n",
        "# The model must be reinitialized otherwise the model will have trained on all of the data (that wouldn't be true 10-fold cv)\n",
        "model = Sequential()\n",
        "model.add(Dense(64, input_shape=(20 ,))) \t# Input layer, needs same shape as input data (9 values 1D)\n",
        "model.add(LeakyReLU(alpha=0.3))\n",
        "model.add(Dense(128))\t\t\t# Hidden layer of nodes\n",
        "model.add(LeakyReLU(alpha=0.3))\n",
        "model.add(Dense(32))\t\t\t# Hidden layer of nodes\n",
        "model.add(LeakyReLU(alpha=0.3))\n",
        "model.add(Dense(8))\t\t\t# Hidden layer of nodes\n",
        "model.add(LeakyReLU(alpha=0.3))\n",
        "model.add(Dense(2, activation='softmax'))\t\t\t# Output layer of 3 nodes \n",
        "\n",
        "# \"Configures the model for training\"\n",
        "model.compile(optimizer='adam', loss='categorical_crossentropy', metrics=metrics)\n",
        "    \n",
        "# Fit and test the model \n",
        "model.fit(x=X_train, y=y_train, epochs=20, batch_size=512, verbose=0, validation_data=(X_test, y_test))\n",
        "    \n",
        "# Evaluate the performance of the model on the test set\n",
        "scores = model.evaluate(X_test, y_test, verbose=2)\n",
        "acc, loss, tpn, tnn, fpn, fnn = scores[1]*100, scores[0]*100, scores[2], scores[3], scores[4], scores[5]\n",
        "totaln = tpn + tnn + fpn + fnn\n",
        "print('Baseline: accuracy: {:.2f}%'.format(acc))\n",
        "print('\\tTrue Positive Rate: {}'.format(tpn/totaln))\n",
        "print('\\tTrue Negative Rate: {}'.format(tnn/totaln))\n",
        "print('\\tFalse Positive Rate: {}'.format(fpn/totaln))\n",
        "print('\\tFalse Negative Rate: {}'.format(fnn/totaln))"
      ],
      "execution_count": null,
      "outputs": [
        {
          "output_type": "stream",
          "text": [
            "Baseline: accuracy: 89.41%\n",
            "\tTrue Positive Rate: 0.45223593330058086\n",
            "\tTrue Negative Rate: 0.44223593330058077\n",
            "\tFalse Positive Rate: 0.06776406669941916\n",
            "\tFalse Negative Rate: 0.05845475825795451\n"
          ],
          "name": "stdout"
        }
      ]
    },
    {
      "cell_type": "code",
      "metadata": {
        "colab": {
          "base_uri": "https://localhost:8080/"
        },
        "id": "poBdqp8u8VYB",
        "outputId": "2adf5339-db6c-48b7-e2b8-4cc1b3774756"
      },
      "source": [
        "  # Technique from https://machinelearningmastery.com/feature-selection-machine-learning-python/\n",
        "# feature extraction\n",
        "test = SelectFpr(score_func=f_classif, alpha=0.05)\n",
        "fit = test.fit(X1, y1)\n",
        "# summarize scores\n",
        "np.set_printoptions(precision=3)\n",
        "#print(fit.scores_)\n",
        "dictt = []\n",
        "i=0\n",
        "for col in X1.columns:\n",
        "    score = fit.scores_[i]\n",
        "    #print(score)\n",
        "    i+=1\n",
        "    if not math.isnan(float(score)):\n",
        "        dictt.append([col, score])    \n",
        "    \n",
        "#dictt = sorted(dictt, key=operator.itemgetter(1), reverse=True)\n",
        "dictt.sort(key=lambda arr : float(arr[1]), reverse=True)\n",
        "\n",
        "outstr = ''\n",
        "\n",
        "i=1\n",
        "for col, score in dictt[:15]:\n",
        "    #if not math.isnan(float(score)):\n",
        "    print('{}\\t{}\\t{}'.format(i, col, score))\n",
        "    i+=1\n",
        "    \n",
        "    outstr += '\\'' + col + '\\', '\n",
        "\n",
        "print(outstr)\n"
      ],
      "execution_count": null,
      "outputs": [
        {
          "output_type": "stream",
          "text": [
            "1\tActive Max\t677.6000614382294\n",
            "2\tDestination Port\t617.1654480819002\n",
            "3\tActive Std\t531.3617253049655\n",
            "4\tActive Mean\t487.7271720509815\n",
            "5\tInit_Win_bytes_backward\t466.4327605491759\n",
            "6\tURG Flag Count\t446.0371823679936\n",
            "7\tTotal Length of Fwd Packets\t406.4139291026289\n",
            "8\tFwd Header Length.1\t406.4139291026289\n",
            "9\tSource Port\t397.7716672219904\n",
            "10\tFlow IAT Mean\t370.94468404250125\n",
            "11\tFlow IAT Min\t289.4728599246458\n",
            "12\tFwd IAT Total\t287.69516928161494\n",
            "13\tActive Min\t275.8639691756266\n",
            "14\tFwd IAT Max\t244.84775107860798\n",
            "15\tFwd IAT Mean\t243.04861113906384\n",
            "'Active Max', 'Destination Port', 'Active Std', 'Active Mean', 'Init_Win_bytes_backward', 'URG Flag Count', 'Total Length of Fwd Packets', 'Fwd Header Length.1', 'Source Port', 'Flow IAT Mean', 'Flow IAT Min', 'Fwd IAT Total', 'Active Min', 'Fwd IAT Max', 'Fwd IAT Mean', \n"
          ],
          "name": "stdout"
        }
      ]
    },
    {
      "cell_type": "code",
      "metadata": {
        "colab": {
          "base_uri": "https://localhost:8080/"
        },
        "id": "x65ZOl848W-h",
        "outputId": "c62da9e3-53d8-4e79-aefe-7fbb2d1d5a53"
      },
      "source": [
        "cols_to_keep = ['Active Max', 'Destination Port', 'Active Std', 'Active Mean', 'Init_Win_bytes_backward', 'URG Flag Count', 'Total Length of Fwd Packets', 'Fwd Header Length.1', 'Source Port', 'Flow IAT Mean', 'Flow IAT Min', 'Fwd IAT Total', 'Active Min', 'Fwd IAT Max', 'Fwd IAT Mean',  \n",
        "                    'Label']\n",
        "print('Dropping unnecessary columns...')\n",
        "df1.drop(columns=[col for col in df1.columns if col not in cols_to_keep], inplace=True, errors='raise') \n",
        "df1.dropna(inplace=True)"
      ],
      "execution_count": null,
      "outputs": [
        {
          "output_type": "stream",
          "text": [
            "Dropping unnecessary columns...\n"
          ],
          "name": "stdout"
        }
      ]
    },
    {
      "cell_type": "code",
      "metadata": {
        "colab": {
          "base_uri": "https://localhost:8080/"
        },
        "id": "CEkI2UpE_35b",
        "outputId": "4a5774e9-f95b-4cc9-a826-4c99ab61d914"
      },
      "source": [
        "X1 = normalize( ( df1.loc[:, df1.columns != dep_var] ).values )\n",
        "\n",
        "# One-Hot Encoding for the target classification\n",
        "label_encoder = LabelEncoder()\n",
        "#y = label_encoder.fit_transform(y)\n",
        "y1 = y1.map(lambda classif : 0 if classif == 'BENIGN' else 1)\n",
        "y1 = keras.utils.to_categorical(y1, num_classes=y1.nunique())\n",
        "\n",
        "print('Data:')\n",
        "print(X1[:5, :])\n"
      ],
      "execution_count": null,
      "outputs": [
        {
          "output_type": "stream",
          "text": [
            "Data:\n",
            "[[4.243e-01 3.684e-03 8.947e-03 9.662e-02 1.996e-04 8.472e-01 1.694e-01\n",
            "  2.530e-01 0.000e+00 8.947e-03 2.495e-05 0.000e+00 0.000e+00 0.000e+00\n",
            "  0.000e+00]\n",
            " [9.998e-01 8.681e-03 4.507e-04 6.839e-03 6.839e-03 6.839e-03 6.839e-03\n",
            "  6.839e-03 0.000e+00 4.507e-04 0.000e+00 0.000e+00 0.000e+00 0.000e+00\n",
            "  0.000e+00]\n",
            " [9.999e-01 1.293e-02 6.713e-04 3.473e-03 3.473e-03 3.473e-03 3.473e-03\n",
            "  3.473e-03 0.000e+00 6.713e-04 0.000e+00 0.000e+00 0.000e+00 0.000e+00\n",
            "  0.000e+00]\n",
            " [7.271e-01 5.803e-03 4.061e-04 4.854e-01 4.854e-01 0.000e+00 0.000e+00\n",
            "  0.000e+00 0.000e+00 4.061e-04 0.000e+00 0.000e+00 0.000e+00 0.000e+00\n",
            "  0.000e+00]\n",
            " [2.920e-01 2.884e-03 8.548e-03 9.696e-02 3.581e-04 8.173e-01 1.635e-01\n",
            "  4.587e-01 0.000e+00 8.548e-03 1.953e-05 0.000e+00 0.000e+00 0.000e+00\n",
            "  0.000e+00]]\n"
          ],
          "name": "stdout"
        }
      ]
    },
    {
      "cell_type": "code",
      "metadata": {
        "colab": {
          "base_uri": "https://localhost:8080/"
        },
        "id": "sLSGs-E68gD1",
        "outputId": "9e784001-961a-4081-f93d-9857bdb09f3d"
      },
      "source": [
        "df1.info()"
      ],
      "execution_count": null,
      "outputs": [
        {
          "output_type": "stream",
          "text": [
            "<class 'pandas.core.frame.DataFrame'>\n",
            "Int64Index: 1048575 entries, 0 to 1048574\n",
            "Data columns (total 15 columns):\n",
            " #   Column                       Non-Null Count    Dtype  \n",
            "---  ------                       --------------    -----  \n",
            " 0   Source Port                  1048575 non-null  int64  \n",
            " 1   Destination Port             1048575 non-null  int64  \n",
            " 2   Total Length of Fwd Packets  1048575 non-null  int64  \n",
            " 3   Flow IAT Mean                1048575 non-null  float64\n",
            " 4   Flow IAT Min                 1048575 non-null  int64  \n",
            " 5   Fwd IAT Total                1048575 non-null  int64  \n",
            " 6   Fwd IAT Mean                 1048575 non-null  float64\n",
            " 7   Fwd IAT Max                  1048575 non-null  int64  \n",
            " 8   URG Flag Count               1048575 non-null  int64  \n",
            " 9   Fwd Header Length.1          1048575 non-null  int64  \n",
            " 10  Init_Win_bytes_backward      1048575 non-null  int64  \n",
            " 11  Active Mean                  1048575 non-null  float64\n",
            " 12  Active Std                   1048575 non-null  float64\n",
            " 13  Active Max                   1048575 non-null  int64  \n",
            " 14  Active Min                   1048575 non-null  int64  \n",
            "dtypes: float64(4), int64(11)\n",
            "memory usage: 128.0 MB\n"
          ],
          "name": "stdout"
        }
      ]
    },
    {
      "cell_type": "code",
      "metadata": {
        "colab": {
          "base_uri": "https://localhost:8080/"
        },
        "id": "ldvS1QqQ8iNJ",
        "outputId": "ce943c1f-9b12-49bd-8dbe-ee47030e5e73"
      },
      "source": [
        "print(X1.shape)\n",
        "print(y1.shape)"
      ],
      "execution_count": null,
      "outputs": [
        {
          "output_type": "stream",
          "text": [
            "(1048575, 15)\n",
            "(1048575, 2)\n"
          ],
          "name": "stdout"
        }
      ]
    },
    {
      "cell_type": "code",
      "metadata": {
        "id": "IWg_b8S49DLq"
      },
      "source": [
        "X_train, X_test, y_train, y_test = train_test_split(X1, y1, test_size=0.33, shuffle=True, stratify=y1, random_state=1)"
      ],
      "execution_count": null,
      "outputs": []
    },
    {
      "cell_type": "code",
      "metadata": {
        "colab": {
          "base_uri": "https://localhost:8080/"
        },
        "id": "fxRMwbln9HPh",
        "outputId": "4fa85c96-1ad6-402a-95e3-5b4c0bf8714e"
      },
      "source": [
        "# for train_idx, test_idx in StratifiedKFold(n_splits=total_folds, shuffle=True, random_state=1).split(data_x, data_y):\n",
        "#     if fold_num == 1:\n",
        "#         data_y = to_categorical(data_y)\n",
        "    \n",
        "#     print('Fold {}/{}'.format(fold_num, total_folds))\n",
        "#     fold_num += 1\n",
        "\n",
        "#     # Set up the training and testing sets\n",
        "#     X_train, X_test = data_x[train_idx], data_x[test_idx]\n",
        "#     y_train, y_test = data_y[train_idx], data_y[test_idx]\n",
        "\n",
        "\n",
        "accuracy = CategoricalAccuracy() \t# Will change this to Categorical if the target classification is categorical\n",
        "tp = TruePositives()\t\t# These could be collected with a confusion matrix, however translating back\n",
        "tn = TrueNegatives()\t\t#  and forth from an image may be frustrating (it was last time I did it)\n",
        "fp = FalsePositives()\n",
        "fn = FalseNegatives()\n",
        "metrics = [accuracy, tp, tn, fp, fn]\n",
        "\n",
        "# The model must be reinitialized otherwise the model will have trained on all of the data (that wouldn't be true 10-fold cv)\n",
        "model = Sequential()\n",
        "model.add(Dense(64, input_shape=(15 ,))) \t# Input layer, needs same shape as input data (9 values 1D)\n",
        "model.add(LeakyReLU(alpha=0.3))\n",
        "model.add(Dense(128))\t\t\t# Hidden layer of nodes\n",
        "model.add(LeakyReLU(alpha=0.3))\n",
        "model.add(Dense(32))\t\t\t# Hidden layer of nodes\n",
        "model.add(LeakyReLU(alpha=0.3))\n",
        "model.add(Dense(8))\t\t\t# Hidden layer of nodes\n",
        "model.add(LeakyReLU(alpha=0.3))\n",
        "model.add(Dense(2, activation='softmax'))\t\t\t# Output layer of 3 nodes \n",
        "\n",
        "# \"Configures the model for training\"\n",
        "model.compile(optimizer='adam', loss='categorical_crossentropy', metrics=metrics)\n",
        "    \n",
        "# Fit and test the model \n",
        "model.fit(x=X_train, y=y_train, epochs=20, batch_size=512, verbose=0, validation_data=(X_test, y_test))\n",
        "    \n",
        "# Evaluate the performance of the model on the test set\n",
        "scores = model.evaluate(X_test, y_test, verbose=2)\n",
        "acc, loss, tpn, tnn, fpn, fnn = scores[1]*100, scores[0]*100, scores[2], scores[3], scores[4], scores[5]\n",
        "totaln = tpn + tnn + fpn + fnn\n",
        "print('Baseline: accuracy: {:.2f}%'.format(acc))\n",
        "print('\\tTrue Positive Rate: {}'.format(tpn/totaln))\n",
        "print('\\tTrue Negative Rate: {}'.format(tnn/totaln))\n",
        "print('\\tFalse Positive Rate: {}'.format(fpn/totaln))\n",
        "print('\\tFalse Negative Rate: {}'.format(fnn/totaln))\n",
        "\n",
        "\n"
      ],
      "execution_count": null,
      "outputs": [
        {
          "output_type": "stream",
          "text": [
            "Baseline: accuracy: 88.31%\n",
            "\tTrue Positive Rate: 0.4415452417420455\n",
            "\tTrue Negative Rate: 0.44115452417420455\n",
            "\tFalse Positive Rate: 0.06845475825795452\n",
            "\tFalse Negative Rate: 0.06845475825795458\n"
          ],
          "name": "stdout"
        }
      ]
    },
    {
      "cell_type": "code",
      "metadata": {
        "colab": {
          "base_uri": "https://localhost:8080/"
        },
        "id": "lmG5z_JU9I1l",
        "outputId": "6a9fbca6-f54b-4338-cae7-fa2ae0979755"
      },
      "source": [
        "# Technique from https://machinelearningmastery.com/feature-selection-machine-learning-python/\n",
        "# feature extraction\n",
        "test = SelectFpr(score_func=f_classif, alpha=0.05)\n",
        "fit = test.fit(X2, y2)\n",
        "# summarize scores\n",
        "np.set_printoptions(precision=3)\n",
        "#print(fit.scores_)\n",
        "dictt = []\n",
        "i=0\n",
        "for col in X2.columns:\n",
        "    score = fit.scores_[i]\n",
        "    #print(score)\n",
        "    i+=1\n",
        "    if not math.isnan(float(score)):\n",
        "        dictt.append([col, score])    \n",
        "    \n",
        "#dictt = sorted(dictt, key=operator.itemgetter(1), reverse=True)\n",
        "dictt.sort(key=lambda arr : float(arr[1]), reverse=True)\n",
        "\n",
        "outstr = ''\n",
        "\n",
        "i=1\n",
        "for col, score in dictt[:10]:\n",
        "    #if not math.isnan(float(score)):\n",
        "    print('{}\\t{}\\t{}'.format(i, col, score))\n",
        "    i+=1\n",
        "    \n",
        "    outstr += '\\'' + col + '\\', '\n",
        "\n",
        "print(outstr)\n"
      ],
      "execution_count": null,
      "outputs": [
        {
          "output_type": "stream",
          "text": [
            "1\tActive Max\t677.6000614382294\n",
            "2\tDestination Port\t617.1654480819002\n",
            "3\tActive Std\t531.3617253049655\n",
            "4\tActive Mean\t487.7271720509815\n",
            "5\tInit_Win_bytes_backward\t466.4327605491759\n",
            "6\tURG Flag Count\t446.0371823679936\n",
            "7\tTotal Length of Fwd Packets\t406.4139291026289\n",
            "8\tFwd Header Length.1\t406.4139291026289\n",
            "9\tSource Port\t397.7716672219904\n",
            "10\tFlow IAT Mean\t370.94468404250125\n",
            "'Active Max', 'Destination Port', 'Active Std', 'Active Mean', 'Init_Win_bytes_backward', 'URG Flag Count', 'Total Length of Fwd Packets', 'Fwd Header Length.1', 'Source Port', 'Flow IAT Mean', \n"
          ],
          "name": "stdout"
        }
      ]
    },
    {
      "cell_type": "code",
      "metadata": {
        "colab": {
          "base_uri": "https://localhost:8080/"
        },
        "id": "PudwteRTAUO9",
        "outputId": "215e45e3-7145-4d12-f806-dae1b9301414"
      },
      "source": [
        "cols_to_keep = ['Active Max', 'Destination Port', 'Active Std', 'Active Mean', 'Init_Win_bytes_backward', 'URG Flag Count', 'Total Length of Fwd Packets', 'Fwd Header Length.1', 'Source Port', 'Flow IAT Mean', \n",
        "                    'Label']\n",
        "print('Dropping unnecessary columns...')\n",
        "df2.drop(columns=[col for col in df2.columns if col not in cols_to_keep], inplace=True, errors='raise') \n",
        "df2.dropna(inplace=True)"
      ],
      "execution_count": null,
      "outputs": [
        {
          "output_type": "stream",
          "text": [
            "Dropping unnecessary columns...\n"
          ],
          "name": "stdout"
        }
      ]
    },
    {
      "cell_type": "code",
      "metadata": {
        "colab": {
          "base_uri": "https://localhost:8080/"
        },
        "id": "OV7zlYIgAXOo",
        "outputId": "e5af2eaf-fb96-4bda-8553-eb6c4293b422"
      },
      "source": [
        "df2.info()"
      ],
      "execution_count": null,
      "outputs": [
        {
          "output_type": "stream",
          "text": [
            "<class 'pandas.core.frame.DataFrame'>\n",
            "Int64Index: 1048575 entries, 0 to 1048574\n",
            "Data columns (total 10 columns):\n",
            " #   Column                       Non-Null Count    Dtype  \n",
            "---  ------                       --------------    -----  \n",
            " 0   Source Port                  1048575 non-null  int64  \n",
            " 1   Destination Port             1048575 non-null  int64  \n",
            " 2   Total Length of Fwd Packets  1048575 non-null  int64  \n",
            " 3   Flow IAT Mean                1048575 non-null  float64\n",
            " 4   URG Flag Count               1048575 non-null  int64  \n",
            " 5   Fwd Header Length.1          1048575 non-null  int64  \n",
            " 6   Init_Win_bytes_backward      1048575 non-null  int64  \n",
            " 7   Active Mean                  1048575 non-null  float64\n",
            " 8   Active Std                   1048575 non-null  float64\n",
            " 9   Active Max                   1048575 non-null  int64  \n",
            "dtypes: float64(3), int64(7)\n",
            "memory usage: 88.0 MB\n"
          ],
          "name": "stdout"
        }
      ]
    },
    {
      "cell_type": "code",
      "metadata": {
        "colab": {
          "base_uri": "https://localhost:8080/"
        },
        "id": "6eMB2moMAf0U",
        "outputId": "858059b8-2f84-4cc7-95c3-2f4ca994efcd"
      },
      "source": [
        "print(X2.shape)"
      ],
      "execution_count": null,
      "outputs": [
        {
          "output_type": "stream",
          "text": [
            "(1048575, 49)\n"
          ],
          "name": "stdout"
        }
      ]
    },
    {
      "cell_type": "code",
      "metadata": {
        "colab": {
          "base_uri": "https://localhost:8080/"
        },
        "id": "lk9lbQvzApRJ",
        "outputId": "292fc770-c6fc-401d-b8c3-f6e9e604eb57"
      },
      "source": [
        "X2 = normalize( ( df2.loc[:, df2.columns != dep_var] ).values )\n",
        "\n",
        "# One-Hot Encoding for the target classification\n",
        "label_encoder = LabelEncoder()\n",
        "#y = label_encoder.fit_transform(y)\n",
        "y2 = y2.map(lambda classif : 0 if classif == 'BENIGN' else 1)\n",
        "y2 = keras.utils.to_categorical(y2, num_classes=y2.nunique())\n",
        "\n",
        "print('Data:')\n",
        "print(X2[:5, :])"
      ],
      "execution_count": null,
      "outputs": [
        {
          "output_type": "stream",
          "text": [
            "Data:\n",
            "[[9.746e-01 8.462e-03 2.055e-02 2.219e-01 0.000e+00 2.055e-02 5.730e-05\n",
            "  0.000e+00 0.000e+00 0.000e+00]\n",
            " [9.999e-01 8.682e-03 4.507e-04 6.840e-03 0.000e+00 4.507e-04 0.000e+00\n",
            "  0.000e+00 0.000e+00 0.000e+00]\n",
            " [9.999e-01 1.293e-02 6.713e-04 3.473e-03 0.000e+00 6.713e-04 0.000e+00\n",
            "  0.000e+00 0.000e+00 0.000e+00]\n",
            " [8.317e-01 6.637e-03 4.645e-04 5.552e-01 0.000e+00 4.645e-04 0.000e+00\n",
            "  0.000e+00 0.000e+00 0.000e+00]\n",
            " [9.483e-01 9.366e-03 2.776e-02 3.149e-01 0.000e+00 2.776e-02 6.343e-05\n",
            "  0.000e+00 0.000e+00 0.000e+00]]\n"
          ],
          "name": "stdout"
        }
      ]
    },
    {
      "cell_type": "code",
      "metadata": {
        "colab": {
          "base_uri": "https://localhost:8080/"
        },
        "id": "-dDABg5TAvo-",
        "outputId": "6594007f-676c-484a-bc02-d5a229775b8c"
      },
      "source": [
        "X2.shape"
      ],
      "execution_count": null,
      "outputs": [
        {
          "output_type": "execute_result",
          "data": {
            "text/plain": [
              "(1048575, 10)"
            ]
          },
          "metadata": {
            "tags": []
          },
          "execution_count": 51
        }
      ]
    },
    {
      "cell_type": "code",
      "metadata": {
        "id": "V1RjK9EOA0qm"
      },
      "source": [
        "X_train, X_test, y_train, y_test = train_test_split(X2, y2, test_size=0.33, shuffle=True, stratify=y2, random_state=1)"
      ],
      "execution_count": null,
      "outputs": []
    },
    {
      "cell_type": "code",
      "metadata": {
        "colab": {
          "base_uri": "https://localhost:8080/"
        },
        "id": "sIa0ue5LA6T-",
        "outputId": "cc410409-37da-4a33-e03d-f171642eeeb8"
      },
      "source": [
        "# for train_idx, test_idx in StratifiedKFold(n_splits=total_folds, shuffle=True, random_state=1).split(data_x, data_y):\n",
        "#     if fold_num == 1:\n",
        "#         data_y = to_categorical(data_y)\n",
        "    \n",
        "#     print('Fold {}/{}'.format(fold_num, total_folds))\n",
        "#     fold_num += 1\n",
        "\n",
        "#     # Set up the training and testing sets\n",
        "#     X_train, X_test = data_x[train_idx], data_x[test_idx]\n",
        "#     y_train, y_test = data_y[train_idx], data_y[test_idx]\n",
        "\n",
        "\n",
        "accuracy = CategoricalAccuracy() \t# Will change this to Categorical if the target classification is categorical\n",
        "tp = TruePositives()\t\t# These could be collected with a confusion matrix, however translating back\n",
        "tn = TrueNegatives()\t\t#  and forth from an image may be frustrating (it was last time I did it)\n",
        "fp = FalsePositives()\n",
        "fn = FalseNegatives()\n",
        "metrics = [accuracy, tp, tn, fp, fn]\n",
        "\n",
        "# The model must be reinitialized otherwise the model will have trained on all of the data (that wouldn't be true 10-fold cv)\n",
        "model = Sequential()\n",
        "model.add(Dense(64, input_shape=(10 ,))) \t# Input layer, needs same shape as input data (9 values 1D)\n",
        "model.add(LeakyReLU(alpha=0.3))\n",
        "model.add(Dense(128))\t\t\t# Hidden layer of nodes\n",
        "model.add(LeakyReLU(alpha=0.3))\n",
        "model.add(Dense(32))\t\t\t# Hidden layer of nodes\n",
        "model.add(LeakyReLU(alpha=0.3))\n",
        "model.add(Dense(8))\t\t\t# Hidden layer of nodes\n",
        "model.add(LeakyReLU(alpha=0.3))\n",
        "model.add(Dense(2, activation='softmax'))\t\t\t# Output layer of 3 nodes \n",
        "\n",
        "# \"Configures the model for training\"\n",
        "model.compile(optimizer='adam', loss='categorical_crossentropy', metrics=metrics)\n",
        "    \n",
        "# Fit and test the model \n",
        "model.fit(x=X_train, y=y_train, epochs=20, batch_size=512, verbose=0, validation_data=(X_test, y_test))\n",
        "    \n",
        "# Evaluate the performance of the model on the test set\n",
        "scores = model.evaluate(X_test, y_test, verbose=2)\n",
        "acc, loss, tpn, tnn, fpn, fnn = scores[1]*100, scores[0]*100, scores[2], scores[3], scores[4], scores[5]\n",
        "totaln = tpn + tnn + fpn + fnn\n",
        "print('Baseline: accuracy: {:.2f}%'.format(acc))\n",
        "print('\\tTrue Positive Rate: {}'.format(tpn/totaln))\n",
        "print('\\tTrue Negative Rate: {}'.format(tnn/totaln))\n",
        "print('\\tFalse Positive Rate: {}'.format(fpn/totaln))\n",
        "print('\\tFalse Negative Rate: {}'.format(fnn/totaln))\n",
        "\n"
      ],
      "execution_count": null,
      "outputs": [
        {
          "output_type": "stream",
          "text": [
            "Baseline: accuracy: 88.22%\n",
            "\tTrue Positive Rate: 0.44609340230615845\n",
            "\tTrue Negative Rate: 0.44609340230615845\n",
            "\tFalse Positive Rate: 0.06390659769384158\n",
            "\tFalse Negative Rate: 0.06390659769384158\n"
          ],
          "name": "stdout"
        }
      ]
    },
    {
      "cell_type": "code",
      "metadata": {
        "id": "7dF56TgrCcBv"
      },
      "source": [
        ""
      ],
      "execution_count": null,
      "outputs": []
    }
  ]
}